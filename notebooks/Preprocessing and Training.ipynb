{
 "cells": [
  {
   "cell_type": "code",
   "execution_count": 1,
   "id": "dc10b5a6",
   "metadata": {},
   "outputs": [],
   "source": [
    "import os\n",
    "import shutil\n",
    "from sklearn.model_selection import train_test_split\n",
    "from ultralytics import YOLO\n"
   ]
  },
  {
   "cell_type": "code",
   "execution_count": null,
   "id": "fc590a89",
   "metadata": {},
   "outputs": [],
   "source": [
    "# Dataset Setup\n",
    "\n",
    "dataset_path = \"data\"\n",
    "images_dir = os.path.join(dataset_path, \"images\")\n",
    "labels_dir = os.path.join(dataset_path, \"labels\")\n",
    "\n",
    "# create train/val/test splits (70/20/10)\n",
    "all_images = [f for f in os.listdir(images_dir) if f.endswith(\".jpg\")]\n",
    "train_imgs, temp_imgs = train_test_split(all_images, test_size=0.3, random_state=42)\n",
    "val_imgs, test_imgs = train_test_split(temp_imgs, test_size=0.33, random_state=42)\n",
    "\n",
    "def move_files(file_list, split):\n",
    "    os.makedirs(os.path.join(dataset_path, split, \"images\"), exist_ok=True)\n",
    "    os.makedirs(os.path.join(dataset_path, split, \"labels\"), exist_ok=True)\n",
    "    for f in file_list:\n",
    "        shutil.copy(os.path.join(images_dir, f), os.path.join(dataset_path, split, \"images\", f))\n",
    "        label_file = f.replace(\".jpg\", \".txt\")\n",
    "        shutil.copy(os.path.join(labels_dir, label_file), os.path.join(dataset_path, split, \"labels\", label_file))\n",
    "\n",
    "move_files(train_imgs, \"train\")\n",
    "move_files(val_imgs, \"val\")\n",
    "move_files(test_imgs, \"test\")\n",
    "\n",
    "print(f\"Train: {len(train_imgs)}, Val: {len(val_imgs)}, Test: {len(test_imgs)}\")\n"
   ]
  },
  {
   "cell_type": "code",
   "execution_count": null,
   "id": "6c29217c",
   "metadata": {},
   "outputs": [],
   "source": [
    "# Define YAML config\n",
    "\n",
    "yaml_content = f\"\"\"\n",
    "path: {dataset_path}\n",
    "train: train/images\n",
    "val: val/images\n",
    "test: test/images\n",
    "\n",
    "nc: 6   # number of defect classes\n",
    "names: ['missing_component', 'solder_bridge', 'misalignment', 'scratch', 'short_circuit', 'other']\n",
    "\"\"\"\n",
    "\n",
    "with open(os.path.join(dataset_path, \"data.yaml\"), \"w\") as f:\n",
    "    f.write(yaml_content)\n",
    "\n",
    "print(\"YAML config file created!\")"
   ]
  },
  {
   "cell_type": "code",
   "execution_count": null,
   "id": "1f5ca348",
   "metadata": {},
   "outputs": [],
   "source": [
    "# Train YOLO Model\n",
    "\n",
    "model = YOLO(\"yolov8s.pt\")\n",
    "results = model.train(\n",
    "    data=os.path.join(dataset_path, \"data.yaml\"),\n",
    "    epochs=50,\n",
    "    imgsz=640,\n",
    "    batch=16,\n",
    "    patience=10,\n",
    "    device=0\n",
    ")"
   ]
  }
 ],
 "metadata": {
  "kernelspec": {
   "display_name": "pcb-env (3.12.4)",
   "language": "python",
   "name": "python3"
  },
  "language_info": {
   "codemirror_mode": {
    "name": "ipython",
    "version": 3
   },
   "file_extension": ".py",
   "mimetype": "text/x-python",
   "name": "python",
   "nbconvert_exporter": "python",
   "pygments_lexer": "ipython3",
   "version": "3.12.4"
  }
 },
 "nbformat": 4,
 "nbformat_minor": 5
}
