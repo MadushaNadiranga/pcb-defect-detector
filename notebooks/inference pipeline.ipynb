{
 "cells": [
  {
   "cell_type": "code",
   "execution_count": 3,
   "id": "77b02d60",
   "metadata": {},
   "outputs": [
    {
     "name": "stdout",
     "output_type": "stream",
     "text": [
      "Classes: {0: 'mouse_bite', 1: 'spur', 2: 'missing_hole', 3: 'short', 4: 'open_circuit', 5: 'spurious_copper'}\n"
     ]
    }
   ],
   "source": [
    "from ultralytics import YOLO\n",
    "from pathlib import Path\n",
    "\n",
    "# Paths (adjust if yours differ)\n",
    "WEIGHTS = Path(\"../pcb-defect-detector/exp12/weights/best.pt\")  # trained weights\n",
    "DATA_YAML = Path(\"../data/data.yaml\")                   # dataset yaml\n",
    "TEST_DIR  = Path(\"../pcb-defect-dataset/test/images\")        # test images\n",
    "OUT_DIR   = Path(\"../results/inference\")                        # save annotated results\n",
    "\n",
    "OUT_DIR.mkdir(parents=True, exist_ok=True)\n",
    "\n",
    "model = YOLO(str(WEIGHTS))\n",
    "print(\"Classes:\", model.names)\n"
   ]
  },
  {
   "cell_type": "code",
   "execution_count": null,
   "id": "8093bf87",
   "metadata": {},
   "outputs": [
    {
     "ename": "IndexError",
     "evalue": "Cannot choose from an empty sequence",
     "output_type": "error",
     "traceback": [
      "\u001b[31m---------------------------------------------------------------------------\u001b[39m",
      "\u001b[31mIndexError\u001b[39m                                Traceback (most recent call last)",
      "\u001b[36mCell\u001b[39m\u001b[36m \u001b[39m\u001b[32mIn[4]\u001b[39m\u001b[32m, line 9\u001b[39m\n\u001b[32m      7\u001b[39m \u001b[38;5;66;03m# Pick a random test image\u001b[39;00m\n\u001b[32m      8\u001b[39m test_images = \u001b[38;5;28mlist\u001b[39m(TEST_DIR.glob(\u001b[33m\"\u001b[39m\u001b[33m*.jpg\u001b[39m\u001b[33m\"\u001b[39m)) + \u001b[38;5;28mlist\u001b[39m(TEST_DIR.glob(\u001b[33m\"\u001b[39m\u001b[33m*.png\u001b[39m\u001b[33m\"\u001b[39m)) + \u001b[38;5;28mlist\u001b[39m(TEST_DIR.glob(\u001b[33m\"\u001b[39m\u001b[33m*.jpeg\u001b[39m\u001b[33m\"\u001b[39m))\n\u001b[32m----> \u001b[39m\u001b[32m9\u001b[39m img_path = \u001b[43mrandom\u001b[49m\u001b[43m.\u001b[49m\u001b[43mchoice\u001b[49m\u001b[43m(\u001b[49m\u001b[43mtest_images\u001b[49m\u001b[43m)\u001b[49m\n\u001b[32m     10\u001b[39m \u001b[38;5;28mprint\u001b[39m(\u001b[33m\"\u001b[39m\u001b[33mImage:\u001b[39m\u001b[33m\"\u001b[39m, img_path.name)\n\u001b[32m     12\u001b[39m \u001b[38;5;66;03m# Predict and save an annotated image\u001b[39;00m\n",
      "\u001b[36mFile \u001b[39m\u001b[32m/Library/Frameworks/Python.framework/Versions/3.12/lib/python3.12/random.py:347\u001b[39m, in \u001b[36mRandom.choice\u001b[39m\u001b[34m(self, seq)\u001b[39m\n\u001b[32m    344\u001b[39m \u001b[38;5;66;03m# As an accommodation for NumPy, we don't use \"if not seq\"\u001b[39;00m\n\u001b[32m    345\u001b[39m \u001b[38;5;66;03m# because bool(numpy.array()) raises a ValueError.\u001b[39;00m\n\u001b[32m    346\u001b[39m \u001b[38;5;28;01mif\u001b[39;00m \u001b[38;5;129;01mnot\u001b[39;00m \u001b[38;5;28mlen\u001b[39m(seq):\n\u001b[32m--> \u001b[39m\u001b[32m347\u001b[39m     \u001b[38;5;28;01mraise\u001b[39;00m \u001b[38;5;167;01mIndexError\u001b[39;00m(\u001b[33m'\u001b[39m\u001b[33mCannot choose from an empty sequence\u001b[39m\u001b[33m'\u001b[39m)\n\u001b[32m    348\u001b[39m \u001b[38;5;28;01mreturn\u001b[39;00m seq[\u001b[38;5;28mself\u001b[39m._randbelow(\u001b[38;5;28mlen\u001b[39m(seq))]\n",
      "\u001b[31mIndexError\u001b[39m: Cannot choose from an empty sequence"
     ]
    }
   ],
   "source": [
    "# Single-image inference\n",
    "\n",
    "import random\n",
    "from PIL import Image\n",
    "import matplotlib.pyplot as plt\n",
    "\n",
    "# Pick a random test image\n",
    "test_images = list(TEST_DIR.glob(\"*.jpg\")) + list(TEST_DIR.glob(\"*.png\")) + list(TEST_DIR.glob(\"*.jpeg\"))\n",
    "img_path = random.choice(candidates)\n",
    "print(\"Image:\", img_path.name)\n",
    "\n",
    "# Predict and save an annotated image\n",
    "res = model.predict(\n",
    "    source=str(img_path),\n",
    "    imgsz=608,          \n",
    "    conf=0.35,          \n",
    "    iou=0.5,\n",
    "    save=True,          \n",
    "    project=str(OUT_DIR),\n",
    "    name=\"single\",\n",
    "    exist_ok=True,\n",
    "    verbose=False\n",
    ")\n",
    "\n",
    "# Show the saved annotated image\n",
    "saved = (OUT_DIR / \"single\") / img_path.name\n",
    "display(Image.open(saved))\n"
   ]
  }
 ],
 "metadata": {
  "kernelspec": {
   "display_name": "pcb-env (3.12.4)",
   "language": "python",
   "name": "python3"
  },
  "language_info": {
   "codemirror_mode": {
    "name": "ipython",
    "version": 3
   },
   "file_extension": ".py",
   "mimetype": "text/x-python",
   "name": "python",
   "nbconvert_exporter": "python",
   "pygments_lexer": "ipython3",
   "version": "3.12.4"
  }
 },
 "nbformat": 4,
 "nbformat_minor": 5
}
